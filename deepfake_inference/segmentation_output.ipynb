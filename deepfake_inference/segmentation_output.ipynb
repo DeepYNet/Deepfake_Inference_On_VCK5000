{
 "cells": [
  {
   "cell_type": "code",
   "execution_count": 21,
   "metadata": {
    "scrolled": true
   },
   "outputs": [
    {
     "name": "stdout",
     "output_type": "stream",
     "text": [
      "(2, 224, 224)\n",
      "torch.Size([2, 224, 224])\n",
      "torch.Size([1, 2, 224, 224])\n",
      "the total number of class =  2\n",
      "torch.Size([2, 224, 224])\n",
      "(2, 224, 224)\n"
     ]
    },
    {
     "data": {
      "image/png": "[encoded data removed]",
      "text/plain": [
       "<Figure size 432x288 with 1 Axes>"
      ]
     },
     "metadata": {
      "needs_background": "light"
     },
     "output_type": "display_data"
    }
   ],
   "source": [
    "import numpy as np\n",
    "import torch\n",
    "from torchvision import transforms\n",
    "import torch.nn.functional as F\n",
    "import matplotlib.pyplot as plt\n",
    "n_classes = 2\n",
    "a = np.load('segmentation_output_array.npy')\n",
    "a = torch.from_numpy(a)\n",
    "a = a.permute(0,3,1,2)\n",
    "reshaped_array = a.numpy()\n",
    "\n",
    "#Change the number 0 till 5001 to see any segmentated mask stored in the array\n",
    "for i in reshaped_array[0:]:\n",
    "    i = i.astype('float32')\n",
    "    final_array = torch.from_numpy(i)\n",
    "    final_array = torch.unsqueeze(final_array,0)\n",
    "\n",
    "    print('the total number of class = ',n_classes)\n",
    "\n",
    "    probs = F.softmax(final_array,dim=1)[0]\n",
    "\n",
    "    tf = transforms.Compose([\n",
    "        transforms.ToPILImage(),\n",
    "        transforms.Resize((224, 224)),\n",
    "        transforms.ToTensor()\n",
    "    ])\n",
    "\n",
    "    full_mask = tf(probs.cpu()).squeeze()\n",
    "    print(full_mask.shape)\n",
    "    final = F.one_hot(full_mask.argmax(dim=0),2).permute(2,0,1).numpy()\n",
    "    print(final.shape)\n",
    "\n",
    "    plt.imshow(final[1],interpolation='nearest')\n",
    "    plt.show()\n",
    "    break\n",
    "\n",
    "    \n",
    "\n"
   ]
  },
  {
   "cell_type": "code",
   "execution_count": null,
   "metadata": {},
   "outputs": [],
   "source": []
  }
 ],
 "metadata": {
  "interpreter": {
   "hash": "200ab4eb9400eb1f0f258daf31099e2b61ffb6a127324db3b1481d252b7f0898"
  },
  "kernelspec": {
   "display_name": "Python 3",
   "language": "python",
   "name": "python3"
  },
  "language_info": {
   "codemirror_mode": {
    "name": "ipython",
    "version": 3
   },
   "file_extension": ".py",
   "mimetype": "text/x-python",
   "name": "python",
   "nbconvert_exporter": "python",
   "pygments_lexer": "ipython3",
   "version": "3.6.13"
  }
 },
 "nbformat": 4,
 "nbformat_minor": 2
}
